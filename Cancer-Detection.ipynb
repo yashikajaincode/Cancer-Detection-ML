{
 "cells": [
  {
   "cell_type": "code",
   "execution_count": 19,
   "id": "acb0352a-a244-42d6-a733-3f48402bbf01",
   "metadata": {},
   "outputs": [],
   "source": [
    "# Import required libraries and setup warnings\n",
    "import numpy as np\n",
    "import pandas as pd\n",
    "from scipy.io import loadmat\n",
    "import matplotlib.pyplot as plt\n",
    "import seaborn as sns\n",
    "import warnings\n",
    "\n",
    "warnings.filterwarnings('ignore')"
   ]
  },
  {
   "cell_type": "code",
   "execution_count": 21,
   "id": "d5c33c8f-1a89-4bdd-8a37-a5d38ed92b99",
   "metadata": {},
   "outputs": [],
   "source": [
    "# Load the MATLAB file (adjust the file path as necessary)\n",
    "data = loadmat(\"Matlab_cancer.mat\")\n",
    "\n",
    "# Extract features (X) and labels (y)\n",
    "X = data['x']  # Features matrix\n",
    "y = data['t']  # Labels in binary pair format\n",
    "\n",
    "# Transpose the matrices so that each row represents one sample\n",
    "X_transposed = X.T\n",
    "y_transposed = y.T\n",
    "\n",
    "# Convert labels into a DataFrame and add column names\n",
    "dfy = pd.DataFrame(y_transposed, columns=[\"First\", \"Second\"])\n",
    "\n",
    "# Define a function to map the binary pair to class labels\n",
    "def map_binary_to_label(row):\n",
    "    if row[\"First\"] == 1 and row[\"Second\"] == 0:\n",
    "        return 'Cancer'\n",
    "    elif row[\"First\"] == 0 and row[\"Second\"] == 1:\n",
    "        return 'Normal'\n",
    "    else:\n",
    "        return 'Unknown'\n",
    "\n",
    "# Apply the mapping function to create a new label column\n",
    "dfy['Label'] = dfy.apply(map_binary_to_label, axis=1)\n",
    "\n",
    "# Convert the categorical labels into numeric values:\n",
    "# Cancer --> 1, Normal --> 0 (using get_dummies with drop_first)\n",
    "y_numeric = pd.get_dummies(dfy['Label'], drop_first=True)  # This gives a column named 'Cancer'\n",
    "\n",
    "# Convert features to a DataFrame for easier manipulation\n",
    "dfX = pd.DataFrame(X_transposed)\n",
    "\n",
    "# (Optional) Combine features and labels for a quick check\n",
    "df = pd.concat([dfX, y_numeric], axis=1)\n",
    "assert df.isna().sum().sum() == 0, \"DataFrame contains NaN values!\"\n"
   ]
  },
  {
   "cell_type": "code",
   "execution_count": 23,
   "id": "4a3ab7bb-8069-4dde-b032-0e077823d2cd",
   "metadata": {},
   "outputs": [
    {
     "name": "stdout",
     "output_type": "stream",
     "text": [
      "Dummy columns: Index(['Normal'], dtype='object')\n",
      "X_train shape: (172, 100)\n",
      "y_train distribution:\n",
      " Normal\n",
      "1    91\n",
      "0    81\n",
      "Name: count, dtype: int64\n"
     ]
    }
   ],
   "source": [
    "from sklearn.model_selection import train_test_split\n",
    "\n",
    "# Check the columns of y_numeric to see available dummy variable names\n",
    "print(\"Dummy columns:\", y_numeric.columns)\n",
    "\n",
    "# Option 1: Invert the 'Normal' dummy variable so that:\n",
    "# - Cancer: 1 (since 'Normal' dummy is 0 for Cancer)\n",
    "# - Normal: 0 (since 'Normal' dummy is 1 for Normal)\n",
    "y_final = 1 - y_numeric['Normal']\n",
    "\n",
    "# Define features\n",
    "X_final = dfX  # All feature columns\n",
    "\n",
    "# Split data into training (80%) and testing (20%) sets\n",
    "X_train, X_test, y_train, y_test = train_test_split(\n",
    "    X_final, y_final, test_size=0.20, random_state=1\n",
    ")\n",
    "\n",
    "print(\"X_train shape:\", X_train.shape)\n",
    "print(\"y_train distribution:\\n\", y_train.value_counts())"
   ]
  },
  {
   "cell_type": "code",
   "execution_count": 25,
   "id": "f0554d8e-79aa-41c4-acd3-a160755948be",
   "metadata": {},
   "outputs": [],
   "source": [
    "import tensorflow as tf\n",
    "from tensorflow import keras\n",
    "\n",
    "# Build the ANN model architecture\n",
    "model = keras.Sequential([\n",
    "    keras.layers.Dense(60, input_dim=X_train.shape[1], activation='relu', name='Hidden_Layer'),\n",
    "    keras.layers.Dense(1, activation='sigmoid', name='Output_Layer')\n",
    "])\n",
    "\n",
    "# Compile the model using binary crossentropy loss and Adam optimizer\n",
    "model.compile(loss='binary_crossentropy', optimizer='adam', metrics=['accuracy'])"
   ]
  },
  {
   "cell_type": "code",
   "execution_count": null,
   "id": "29e4402b-0ad6-4cf0-a348-d82045bdeedd",
   "metadata": {},
   "outputs": [
    {
     "name": "stdout",
     "output_type": "stream",
     "text": [
      "Epoch 1/100\n",
      "\u001b[1m6/6\u001b[0m \u001b[32m━━━━━━━━━━━━━━━━━━━━\u001b[0m\u001b[37m\u001b[0m \u001b[1m2s\u001b[0m 12ms/step - accuracy: 0.7435 - loss: 0.5975\n",
      "Epoch 2/100\n",
      "\u001b[1m6/6\u001b[0m \u001b[32m━━━━━━━━━━━━━━━━━━━━\u001b[0m\u001b[37m\u001b[0m \u001b[1m0s\u001b[0m 6ms/step - accuracy: 0.8298 - loss: 0.4535 \n",
      "Epoch 3/100\n",
      "\u001b[1m6/6\u001b[0m \u001b[32m━━━━━━━━━━━━━━━━━━━━\u001b[0m\u001b[37m\u001b[0m \u001b[1m0s\u001b[0m 12ms/step - accuracy: 0.8707 - loss: 0.3942\n",
      "Epoch 4/100\n",
      "\u001b[1m6/6\u001b[0m \u001b[32m━━━━━━━━━━━━━━━━━━━━\u001b[0m\u001b[37m\u001b[0m \u001b[1m0s\u001b[0m 9ms/step - accuracy: 0.8904 - loss: 0.3436  \n",
      "Epoch 5/100\n",
      "\u001b[1m6/6\u001b[0m \u001b[32m━━━━━━━━━━━━━━━━━━━━\u001b[0m\u001b[37m\u001b[0m \u001b[1m0s\u001b[0m 18ms/step - accuracy: 0.8783 - loss: 0.3186 \n",
      "Epoch 6/100\n",
      "\u001b[1m3/6\u001b[0m \u001b[32m━━━━━━━━━━\u001b[0m\u001b[37m━━━━━━━━━━\u001b[0m \u001b[1m0s\u001b[0m 26ms/step - accuracy: 0.8438 - loss: 0.3473"
     ]
    }
   ],
   "source": [
    "# Train the model for 100 epochs\n",
    "history = model.fit(X_train, y_train, epochs=100, verbose=1)\n"
   ]
  },
  {
   "cell_type": "code",
   "execution_count": null,
   "id": "0b9bdb8a-41c2-43bc-9e13-08de8f431e9a",
   "metadata": {},
   "outputs": [],
   "source": [
    "# Evaluate the model on the test set\n",
    "loss, accuracy = model.evaluate(X_test, y_test, verbose=0)\n",
    "print(f\"\\nTest Loss     : {loss:.4f}\")\n",
    "print(f\"Test Accuracy : {accuracy:.4f}\")\n",
    "\n",
    "# Generate predictions on the test set\n",
    "y_pred_prob = model.predict(X_test).reshape(-1)\n",
    "y_pred = np.round(y_pred_prob)  # Convert probabilities to 0 or 1\n",
    "\n",
    "# Display the first 10 predictions\n",
    "print(\"Predicted probabilities (first 10):\", y_pred_prob[:10])\n",
    "print(\"Rounded predictions (first 10):\", y_pred[:10])\n",
    "\n",
    "# Generate a classification report and confusion matrix\n",
    "from sklearn.metrics import confusion_matrix, classification_report\n",
    "\n",
    "print(\"\\nClassification Report:\")\n",
    "print(classification_report(y_test, y_pred))\n",
    "\n",
    "# Plot the confusion matrix\n",
    "cm = confusion_matrix(y_test, y_pred)\n",
    "plt.figure(figsize=(6, 4))\n",
    "sns.heatmap(cm, annot=True, fmt=\"d\", cmap=\"Blues\")\n",
    "plt.title(\"Confusion Matrix\")\n",
    "plt.xlabel(\"Predicted Label\")\n",
    "plt.ylabel(\"True Label\")\n",
    "plt.show()\n"
   ]
  },
  {
   "cell_type": "code",
   "execution_count": null,
   "id": "7495e37e-c89d-43cf-a917-66e05512a1ee",
   "metadata": {},
   "outputs": [],
   "source": []
  }
 ],
 "metadata": {
  "kernelspec": {
   "display_name": "Python 3 (ipykernel)",
   "language": "python",
   "name": "python3"
  },
  "language_info": {
   "codemirror_mode": {
    "name": "ipython",
    "version": 3
   },
   "file_extension": ".py",
   "mimetype": "text/x-python",
   "name": "python",
   "nbconvert_exporter": "python",
   "pygments_lexer": "ipython3",
   "version": "3.12.4"
  }
 },
 "nbformat": 4,
 "nbformat_minor": 5
}
